{
 "cells": [
  {
   "cell_type": "markdown",
   "id": "5df7aa0e",
   "metadata": {},
   "source": [
    "### Curso - Introdução a Classificação ML Alura"
   ]
  },
  {
   "cell_type": "code",
   "execution_count": 1,
   "id": "0f5a6d11",
   "metadata": {},
   "outputs": [],
   "source": [
    "import pandas as pd\n",
    "import numpy as np\n"
   ]
  },
  {
   "cell_type": "code",
   "execution_count": 2,
   "id": "abc60810",
   "metadata": {},
   "outputs": [],
   "source": [
    "'''\n",
    "features: (1 sim e 0 não)\n",
    "pelo longo?\n",
    "perna curta?\n",
    "faz \"au au\"?\n",
    "'''\n",
    "\n",
    "porco1 = [0,1,0]\n",
    "porco2 = [0,1,1]\n",
    "porco3 = [1,1,0]\n",
    "\n",
    "cachorro1 = [0,1,1]\n",
    "cachorro2 = [1,0,1]\n",
    "cachorro3 = [1,1,1]\n",
    "\n",
    "#1 -> porco , 0 -> cachorro\n",
    "\n",
    "#Dados de treino:\n",
    "train_x = [porco1, porco2, porco3, cachorro1, cachorro2, cachorro3] # x de treino\n",
    "train_y = [1,1,1,0,0,0] # y de treino ou labels"
   ]
  },
  {
   "cell_type": "code",
   "execution_count": 3,
   "id": "293b0e3e",
   "metadata": {},
   "outputs": [
    {
     "data": {
      "text/plain": [
       "LinearSVC()"
      ]
     },
     "execution_count": 3,
     "metadata": {},
     "output_type": "execute_result"
    }
   ],
   "source": [
    "from sklearn.svm import LinearSVC\n",
    "model = LinearSVC()\n",
    "model.fit(train_x, train_y)"
   ]
  },
  {
   "cell_type": "code",
   "execution_count": 4,
   "id": "b24ad20c",
   "metadata": {},
   "outputs": [
    {
     "data": {
      "text/plain": [
       "array([0])"
      ]
     },
     "execution_count": 4,
     "metadata": {},
     "output_type": "execute_result"
    }
   ],
   "source": [
    "animal_misterioso = [1,1,1]\n",
    "model.predict([animal_misterioso])"
   ]
  },
  {
   "cell_type": "code",
   "execution_count": 5,
   "id": "7f143e01",
   "metadata": {},
   "outputs": [],
   "source": [
    "misterio1 = [1,1,1]\n",
    "misterio2 = [1,1,0]\n",
    "misterio3 = [0,1,1]\n",
    "\n",
    "teste_x = [misterio1, misterio2, misterio3]\n",
    "teste_y = [0,1,1] # y original, classes e labels preditos\n",
    "\n",
    "previsoes = model.predict(teste_x)"
   ]
  },
  {
   "cell_type": "code",
   "execution_count": 6,
   "id": "4f959b8b",
   "metadata": {},
   "outputs": [
    {
     "name": "stdout",
     "output_type": "stream",
     "text": [
      "Taxa de acerto:  66.66666666666666\n"
     ]
    }
   ],
   "source": [
    "corretos = (previsoes == teste_y).sum()\n",
    "total = len(teste_x)\n",
    "taxa_de_acerto = corretos/total\n",
    "print(\"Taxa de acerto: \", taxa_de_acerto * 100)"
   ]
  },
  {
   "cell_type": "code",
   "execution_count": 9,
   "id": "cd6c4fb3",
   "metadata": {},
   "outputs": [
    {
     "name": "stdout",
     "output_type": "stream",
     "text": [
      "Taxa de acerto 66.67%\n"
     ]
    }
   ],
   "source": [
    "from sklearn.metrics import accuracy_score\n",
    "\n",
    "taxa_de_acerto = accuracy_score(teste_y, previsoes)\n",
    "print(\"Taxa de acerto %.2f%%\" % (taxa_de_acerto * 100))"
   ]
  },
  {
   "cell_type": "code",
   "execution_count": null,
   "id": "17b81bb8",
   "metadata": {},
   "outputs": [],
   "source": []
  }
 ],
 "metadata": {
  "kernelspec": {
   "display_name": "Python 3",
   "language": "python",
   "name": "python3"
  },
  "language_info": {
   "codemirror_mode": {
    "name": "ipython",
    "version": 3
   },
   "file_extension": ".py",
   "mimetype": "text/x-python",
   "name": "python",
   "nbconvert_exporter": "python",
   "pygments_lexer": "ipython3",
   "version": "3.8.8"
  }
 },
 "nbformat": 4,
 "nbformat_minor": 5
}
